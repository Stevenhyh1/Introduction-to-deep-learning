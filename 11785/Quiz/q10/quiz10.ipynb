{
 "cells": [
  {
   "cell_type": "code",
   "execution_count": 1,
   "metadata": {},
   "outputs": [],
   "source": [
    "import numpy as np\n",
    "\n",
    "H = np.array([[0, -1, -1, 1, 1, 1],\n",
    "              [-1, 0, 1, -1, -1, -1],\n",
    "              [-1, 1, 0, -1, -1, -1],\n",
    "              [1, -1, -1, 0, 1, 1],\n",
    "              [1, -1, -1, 1, 0, 1],\n",
    "              [1, -1, -1, 1, 1, 0]])\n",
    "a = np.ones(6).reshape(-1,1)"
   ]
  },
  {
   "cell_type": "code",
   "execution_count": 5,
   "metadata": {},
   "outputs": [],
   "source": [
    "a[np.dot(H, a)<=0]=-1"
   ]
  },
  {
   "cell_type": "code",
   "execution_count": 6,
   "metadata": {},
   "outputs": [
    {
     "data": {
      "text/plain": [
       "array([[ 1.],\n",
       "       [-1.],\n",
       "       [-1.],\n",
       "       [ 1.],\n",
       "       [ 1.],\n",
       "       [ 1.]])"
      ]
     },
     "execution_count": 6,
     "metadata": {},
     "output_type": "execute_result"
    }
   ],
   "source": [
    "a"
   ]
  },
  {
   "cell_type": "code",
   "execution_count": 7,
   "metadata": {},
   "outputs": [],
   "source": [
    "a[np.dot(H, a)<=0]=-1"
   ]
  },
  {
   "cell_type": "code",
   "execution_count": 8,
   "metadata": {},
   "outputs": [
    {
     "data": {
      "text/plain": [
       "array([[ 1.],\n",
       "       [-1.],\n",
       "       [-1.],\n",
       "       [ 1.],\n",
       "       [ 1.],\n",
       "       [ 1.]])"
      ]
     },
     "execution_count": 8,
     "metadata": {},
     "output_type": "execute_result"
    }
   ],
   "source": [
    "a"
   ]
  },
  {
   "cell_type": "code",
   "execution_count": 9,
   "metadata": {},
   "outputs": [],
   "source": [
    "H = np.array([[0, -1, -1, 1, 1, 1],\n",
    "              [-1, 0, 1, -1, -1, -1],\n",
    "              [-1, 1, 0, -1, -1, -1],\n",
    "              [1, -1, -1, 0, 1, 1],\n",
    "              [1, -1, -1, 1, 0, 1],\n",
    "              [1, -1, -1, 1, 1, 0]])"
   ]
  },
  {
   "cell_type": "code",
   "execution_count": 18,
   "metadata": {},
   "outputs": [],
   "source": [
    "s_list = []\n",
    "\n",
    "for i in range(2):\n",
    "    for j in range(2):\n",
    "        for k in range(2):\n",
    "            for l in range(2):\n",
    "                for m in range(2):\n",
    "                    for n in range(2):\n",
    "#                         print(i)\n",
    "                        s = np.empty(6)\n",
    "                        s[0] = 1 if i==1 else -1\n",
    "                        s[1] = 1 if j==1 else -1\n",
    "                        s[2] = 1 if k==1 else -1\n",
    "                        s[3] = 1 if l==1 else -1\n",
    "                        s[4] = 1 if m==1 else -1\n",
    "                        s[5] = 1 if n==1 else -1\n",
    "                        s_list.append(s)"
   ]
  },
  {
   "cell_type": "code",
   "execution_count": 19,
   "metadata": {},
   "outputs": [],
   "source": [
    "def cal_energy(H, s):\n",
    "    e = 0\n",
    "    for i in range(6):\n",
    "        for j in range(i):\n",
    "            e += H[i][j]*s[i]*s[j]\n",
    "    return e*-1"
   ]
  },
  {
   "cell_type": "code",
   "execution_count": 25,
   "metadata": {},
   "outputs": [],
   "source": [
    "score_list = []\n",
    "for s in s_list:\n",
    "    score_list.append(cal_energy(H, s));\n",
    "# score_list.sort()"
   ]
  },
  {
   "cell_type": "code",
   "execution_count": 27,
   "metadata": {},
   "outputs": [
    {
     "data": {
      "text/plain": [
       "24"
      ]
     },
     "execution_count": 27,
     "metadata": {},
     "output_type": "execute_result"
    }
   ],
   "source": [
    "np.argmin(score_list)"
   ]
  },
  {
   "cell_type": "code",
   "execution_count": 28,
   "metadata": {},
   "outputs": [
    {
     "data": {
      "text/plain": [
       "array([-1.,  1.,  1., -1., -1., -1.])"
      ]
     },
     "execution_count": 28,
     "metadata": {},
     "output_type": "execute_result"
    }
   ],
   "source": [
    "s_list[24]"
   ]
  },
  {
   "cell_type": "code",
   "execution_count": null,
   "metadata": {},
   "outputs": [],
   "source": []
  }
 ],
 "metadata": {
  "kernelspec": {
   "display_name": "Python 3",
   "language": "python",
   "name": "python3"
  },
  "language_info": {
   "codemirror_mode": {
    "name": "ipython",
    "version": 3
   },
   "file_extension": ".py",
   "mimetype": "text/x-python",
   "name": "python",
   "nbconvert_exporter": "python",
   "pygments_lexer": "ipython3",
   "version": "3.7.7"
  }
 },
 "nbformat": 4,
 "nbformat_minor": 4
}
