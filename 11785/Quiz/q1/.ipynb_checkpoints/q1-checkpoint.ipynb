{
 "cells": [
  {
   "cell_type": "code",
   "execution_count": 26,
   "metadata": {},
   "outputs": [
    {
     "data": {
      "text/plain": [
       "0.2462222436071213"
      ]
     },
     "execution_count": 26,
     "metadata": {},
     "output_type": "execute_result"
    }
   ],
   "source": [
    "l1 = [0, 0, 1, 1]\n",
    "l2 = [0, 1, 0, 1]\n",
    "O = [1, 1, 1, 0]\n",
    "\n",
    "W1 = 0\n",
    "W2 = 0\n",
    "b = 0\n",
    "\n",
    "num_epoch = 100\n",
    "eta = 0.1\n",
    "\n",
    "W1list = [W1]\n",
    "W2list = [W2]\n",
    "blist = [b]\n",
    "\n",
    "for iteration in range(num_epoch):\n",
    "    if iteration%2 ==0 :\n",
    "        for i in range(4):\n",
    "            t = W1 * l1[i] + W2 * l2[i] + b\n",
    "            y = O[i]\n",
    "            W1 += eta*l1[i]*(y-t)\n",
    "            W2 += eta*l2[i]*(y-t)\n",
    "            b += eta*(y-t)\n",
    "    else:\n",
    "        for j in range(4):\n",
    "            i = 3-j\n",
    "            t = W1 * l1[i] + W2 * l2[i] + b\n",
    "            y = O[i]\n",
    "            W1 += eta*l1[i]*(y-t)\n",
    "            W2 += eta*l2[i]*(y-t)\n",
    "            b += eta*(y-t)\n",
    "    W1list.append(W1)\n",
    "    W2list.append(W2)\n",
    "    blist.append(b)\n",
    "\n",
    "W1*1 + W2*1 + b"
   ]
  }
 ],
 "metadata": {
  "kernelspec": {
   "display_name": "Python 3",
   "language": "python",
   "name": "python3"
  },
  "language_info": {
   "codemirror_mode": {
    "name": "ipython",
    "version": 3
   },
   "file_extension": ".py",
   "mimetype": "text/x-python",
   "name": "python",
   "nbconvert_exporter": "python",
   "pygments_lexer": "ipython3",
   "version": "3.7.6"
  }
 },
 "nbformat": 4,
 "nbformat_minor": 2
}
