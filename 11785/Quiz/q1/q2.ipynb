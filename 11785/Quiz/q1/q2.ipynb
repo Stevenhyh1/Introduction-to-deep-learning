{
 "cells": [
  {
   "cell_type": "code",
   "execution_count": 24,
   "metadata": {},
   "outputs": [
    {
     "name": "stdout",
     "output_type": "stream",
     "text": [
      "100\n",
      "100\n"
     ]
    }
   ],
   "source": [
    "#John\n",
    "l1 = [1, 0]\n",
    "l2 = [1, 1]\n",
    "O = [1, 0]\n",
    "\n",
    "W1 = 0\n",
    "W2 = 0\n",
    "b=0\n",
    "\n",
    "num_epoch = 100\n",
    "eta = 1\n",
    "\n",
    "W1list = [W1]\n",
    "W2list = [W2]\n",
    "\n",
    "def phi(num):\n",
    "    return 0 if num<=0 else 1\n",
    "\n",
    "for iteration in range(num_epoch):\n",
    "    if iteration%2 !=0 :\n",
    "        for i in range(2):\n",
    "            t = W1 * l1[i] + W2 * l2[i]\n",
    "            y = O[i]\n",
    "            if y==1:\n",
    "                W1 += eta*l1[i]*y\n",
    "                W2 += eta*l2[i]*y\n",
    "\n",
    "    else:\n",
    "        for j in range(2):\n",
    "            i = 1-j\n",
    "            t = W1 * l1[i] + W2 * l2[i]\n",
    "            y = O[i]\n",
    "            if y==1:\n",
    "                W1 += eta*l1[i]*y\n",
    "                W2 += eta*l2[i]*y\n",
    "\n",
    "    W1list.append(W1)\n",
    "    W2list.append(W2)\n",
    "\n",
    "print(W1)\n",
    "print(W2)\n",
    "# W1list"
   ]
  },
  {
   "cell_type": "code",
   "execution_count": 25,
   "metadata": {},
   "outputs": [
    {
     "name": "stdout",
     "output_type": "stream",
     "text": [
      "0\n",
      "1\n",
      "1\n",
      "1\n"
     ]
    }
   ],
   "source": [
    "print(phi(W1*0 + W2*0 + b))\n",
    "print(phi(W1*0 + W2*1 + b))\n",
    "print(phi(W1*1 + W2*0 + b))\n",
    "print(phi(W1*1 + W2*1 + b))"
   ]
  },
  {
   "cell_type": "code",
   "execution_count": 22,
   "metadata": {},
   "outputs": [],
   "source": [
    "#Hebbian\n",
    "l1 = [1, 0]\n",
    "l2 = [1, 1]\n",
    "O = [1, 0]\n",
    "\n",
    "W1 = 0\n",
    "W2 = 0\n",
    "\n",
    "\n",
    "num_epoch = 100\n",
    "eta = 0.1\n",
    "\n",
    "W1list = [W1]\n",
    "W2list = [W2]\n",
    "\n",
    "def phi(num):\n",
    "    return 0 if num<=0 else 1\n",
    "\n",
    "for iteration in range(num_epoch):\n",
    "    if iteration%2 !=0 :\n",
    "        for i in range(2):\n",
    "            t = W1 * l1[i] + W2 * l2[i]\n",
    "            y = O[i]\n",
    "            W1 += eta*l1[i]*y\n",
    "            W2 += eta*l2[i]*y\n",
    "\n",
    "    else:\n",
    "        for j in range(2):\n",
    "            i = 1-j\n",
    "            t = W1 * l1[i] + W2 * l2[i]\n",
    "            y = O[i]\n",
    "            W1 += eta*l1[i]*y\n",
    "            W2 += eta*l2[i]*y\n",
    "\n",
    "    W1list.append(W1)\n",
    "    W2list.append(W2)"
   ]
  },
  {
   "cell_type": "code",
   "execution_count": 23,
   "metadata": {},
   "outputs": [
    {
     "name": "stdout",
     "output_type": "stream",
     "text": [
      "0\n",
      "1\n",
      "1\n",
      "1\n"
     ]
    }
   ],
   "source": [
    "print(phi(W1*0 + W2*0 + b))\n",
    "print(phi(W1*1 + W2*0 + b))\n",
    "print(phi(W1*0 + W2*1 + b))\n",
    "print(phi(W1*1 + W2*1 + b))"
   ]
  },
  {
   "cell_type": "code",
   "execution_count": null,
   "metadata": {},
   "outputs": [],
   "source": []
  }
 ],
 "metadata": {
  "kernelspec": {
   "display_name": "Python 3",
   "language": "python",
   "name": "python3"
  },
  "language_info": {
   "codemirror_mode": {
    "name": "ipython",
    "version": 3
   },
   "file_extension": ".py",
   "mimetype": "text/x-python",
   "name": "python",
   "nbconvert_exporter": "python",
   "pygments_lexer": "ipython3",
   "version": "3.7.6"
  }
 },
 "nbformat": 4,
 "nbformat_minor": 2
}
