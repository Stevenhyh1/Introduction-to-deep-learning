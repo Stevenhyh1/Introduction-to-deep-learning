{
 "cells": [
  {
   "cell_type": "code",
   "execution_count": 2,
   "metadata": {},
   "outputs": [],
   "source": [
    "import numpy as np"
   ]
  },
  {
   "cell_type": "code",
   "execution_count": 4,
   "metadata": {},
   "outputs": [
    {
     "name": "stdout",
     "output_type": "stream",
     "text": [
      "3.5178591381704405\n",
      "-2.512743318200085\n"
     ]
    }
   ],
   "source": [
    "x = 3.1\n",
    "y = -2.2\n",
    "lr = 0.001\n",
    "\n",
    "for i in range(100):\n",
    "    dx = 2*x + 20*np.pi*np.sin(2*np.pi*x)\n",
    "    x += lr*dx\n",
    "    dy = 2*y + 20*np.pi*np.sin(2*np.pi*y)\n",
    "    y += lr*dy\n",
    "    z = 20 + x*x + y*y - 10*np.cos(2*np.pi*x) - 10*np.cos(2*np.pi*y)\n",
    "#     print(z)\n",
    "print(x)\n",
    "print(y)"
   ]
  },
  {
   "cell_type": "code",
   "execution_count": null,
   "metadata": {},
   "outputs": [],
   "source": [
    "z = 20 + x*x + y*y - 10*cos(2*np.pi*x) - 10*cos(2*np.pi*y)"
   ]
  }
 ],
 "metadata": {
  "kernelspec": {
   "display_name": "Python 3",
   "language": "python",
   "name": "python3"
  },
  "language_info": {
   "codemirror_mode": {
    "name": "ipython",
    "version": 3
   },
   "file_extension": ".py",
   "mimetype": "text/x-python",
   "name": "python",
   "nbconvert_exporter": "python",
   "pygments_lexer": "ipython3",
   "version": "3.7.4"
  }
 },
 "nbformat": 4,
 "nbformat_minor": 2
}
