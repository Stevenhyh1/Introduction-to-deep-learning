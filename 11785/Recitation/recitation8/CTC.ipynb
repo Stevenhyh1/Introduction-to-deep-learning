{
 "cells": [
  {
   "cell_type": "markdown",
   "metadata": {
    "colab_type": "text",
    "id": "taSSqLtNRLaL"
   },
   "source": [
    "# Training with `nn.CTCLoss`\n",
    "\n",
    "Starting from PyTorch 1.1.0, built-in support for CTC loss is available as `nn.CTCLoss`. Before that, people have to use third-party libraries like `warp-ctc`. We strongly recommend you to use a recent PyTorch version and `nn.CTCLoss` for HW3P2.\n",
    "\n"
   ]
  },
  {
   "cell_type": "markdown",
   "metadata": {
    "colab_type": "text",
    "id": "HdOqR2rl9W2e"
   },
   "source": [
    "## Toy task: English spelling to pronunciation\n",
    "\n",
    "As a demonstration, we consider the task of predicting the pronunciation (as sequence of phonemes) of an English word given its spelling. The model we use is a bidirectional LSTM.\n",
    "\n",
    "CTC is actually not the best formulation for this problem, since the letter \"X\" corresponds to two phonemes \"K S\", but it works well with our simplified data."
   ]
  },
  {
   "cell_type": "code",
   "execution_count": 1,
   "metadata": {
    "colab": {},
    "colab_type": "code",
    "id": "i4n6x1c6RK5t"
   },
   "outputs": [],
   "source": [
    "# Words with only E, I, N, S, T.\n",
    "# Pronunciation is from htttop://www.speech.cs.cmu.edu/cgi-bin/pronounce\n",
    "data = [\n",
    "    ('SEE', 'S IY'),\n",
    "    ('SET', 'S EH T'),\n",
    "    ('SIT', 'S IH T'),\n",
    "    ('SITE', 'S AY T'),\n",
    "    ('SIN', 'S IH N'),\n",
    "    ('TEEN', 'T IY N'),\n",
    "    ('TIN', 'T IH N'),\n",
    "    ('TIE', 'T AY'),\n",
    "    ('TEST', 'T EH S T'),\n",
    "    ('NET', 'N EH T'),\n",
    "    ('NEET', 'N IY T'),\n",
    "    ('NINE', 'N AY N')\n",
    "]\n",
    "letters = 'EINST'\n",
    "# Starts with ' ' for blank, followed by actual phonemes\n",
    "phonemes = [' ', 'S', 'T', 'N', 'IY', 'IH', 'EH', 'AY']"
   ]
  },
  {
   "cell_type": "markdown",
   "metadata": {
    "colab_type": "text",
    "id": "EPJuz7AMC7uT"
   },
   "source": [
    "Note that, if there are P phonemes for the output, they should be indexed as 1 to P, not 0 to P-1. **Index 0 is reserved for the \"blank\" symbol by default.**\n",
    "\n",
    "Accordingly, the output classifier of the model should have P+1 classes, since \"blank\" is also a class."
   ]
  },
  {
   "cell_type": "code",
   "execution_count": 2,
   "metadata": {
    "colab": {
     "base_uri": "https://localhost:8080/",
     "height": 53
    },
    "colab_type": "code",
    "executionInfo": {
     "elapsed": 1147,
     "status": "ok",
     "timestamp": 1571616475677,
     "user": {
      "displayName": "Parth Shah",
      "photoUrl": "",
      "userId": "06799060630439446761"
     },
     "user_tz": 240
    },
    "id": "DvetNUFwrQqd",
    "outputId": "ecedeb67-5e34-4f91-c524-3a116f83f31c"
   },
   "outputs": [
    {
     "name": "stdout",
     "output_type": "stream",
     "text": [
      "X torch.Size([4, 12]) tensor([3, 3, 3, 4, 3, 4, 3, 3, 4, 3, 4, 4])\n",
      "Y torch.Size([12, 4]) tensor([2, 3, 3, 3, 3, 3, 3, 2, 4, 3, 3, 3])\n"
     ]
    }
   ],
   "source": [
    "import torch\n",
    "from torch import nn\n",
    "from torch.nn.utils.rnn import *\n",
    "\n",
    "X = [torch.LongTensor([letters.find(c) for c in word]) for word, _ in data]\n",
    "Y = [torch.LongTensor([phonemes.index(p) for p in pron.split()]) for _, pron in data]\n",
    "X_lens = torch.LongTensor([len(seq) for seq in X])\n",
    "Y_lens = torch.LongTensor([len(seq) for seq in Y])\n",
    "X = pad_sequence(X)\n",
    "# `batch_first=True` is required for use in `nn.CTCLoss`.\n",
    "Y = pad_sequence(Y, batch_first=True)\n",
    "\n",
    "print('X', X.size(), X_lens)\n",
    "print('Y', Y.size(), Y_lens)"
   ]
  },
  {
   "cell_type": "code",
   "execution_count": 3,
   "metadata": {},
   "outputs": [],
   "source": [
    "class Model(nn.Module):\n",
    "    def __init__(self, in_vocab, out_vocab, embed_size, hidden_size):\n",
    "        super(Model, self).__init__()\n",
    "        self.embed = nn.Embedding(in_vocab, embed_size)\n",
    "        self.lstm = nn.LSTM(embed_size, hidden_size, bidirectional=True)\n",
    "        self.output = nn.Linear(hidden_size * 2, out_vocab)\n",
    "    \n",
    "    def forward(self, X, lengths):\n",
    "        X = self.embed(X)\n",
    "        packed_X = pack_padded_sequence(X, lengths, enforce_sorted=False)\n",
    "        packed_out = self.lstm(packed_X)[0]\n",
    "        out, out_lens = pad_packed_sequence(packed_out)\n",
    "        # Log softmax after output layer is required since`nn.CTCLoss` expects log probabilities.\n",
    "        out = self.output(out).log_softmax(2)\n",
    "        return out, out_lens"
   ]
  },
  {
   "cell_type": "markdown",
   "metadata": {
    "colab_type": "text",
    "id": "mNBBNx-xEMc7"
   },
   "source": [
    "## Usage\n",
    "\n",
    "The official documentation is your best friend: https://pytorch.org/docs/stable/nn.html#ctcloss\n",
    "\n",
    "`nn.CTCLoss` takes 4 arguments to compute the loss:\n",
    "* `log_probs`: Prediction of your model at each time step.\n",
    "  * Shape: (T, N, C), where T is the largest length in the batch, N is batch size, and C is number of classes (remember that it should be number of phonemes plus 1).\n",
    "  * **Values must be log probabilities.** Neither probabilities nor logits will work. Make sure the output of your network is log probabilities, by adding a `nn.LogSoftmax` after the last linear layer.\n",
    "* `targets`: The ground truth sequences.\n",
    "  * Shape: (N, S), where N is batch size, and S is the largest length in the batch. **WARNING!** This dimension order is unconventional in PyTorch. If you use `torch.nn.utils.rnn.pad_sequence` to pad the target sequence,  **you must explicitly set `batch_first=True`**.\n",
    "  * Values are indices of phonemes. Again, remember that index 0 is reserved for \"blank\" and should not represent any phoneme.\n",
    "* `input_lengths`: Lengths of sequences in `log_probs`.\n",
    "  * Shape: (N,).\n",
    "  * This is not necessarily the same as lengths of input of the model. If your model uses CNNs or pyramidal RNNs, it changes the length of sequences, and you must correctly compute the lengths of its output to be used here.\n",
    "* `target_lengths`: Lengths of sequences in `targets`.\n",
    "  * Shape: (N,).\n"
   ]
  },
  {
   "cell_type": "code",
   "execution_count": 4,
   "metadata": {
    "colab": {
     "base_uri": "https://localhost:8080/",
     "height": 910
    },
    "colab_type": "code",
    "executionInfo": {
     "elapsed": 1541,
     "status": "ok",
     "timestamp": 1571616478385,
     "user": {
      "displayName": "Parth Shah",
      "photoUrl": "",
      "userId": "06799060630439446761"
     },
     "user_tz": 240
    },
    "id": "g5tMaKTx9EiS",
    "outputId": "fc704f51-d84b-4ac7-a76a-f1ecbac81594"
   },
   "outputs": [
    {
     "name": "stdout",
     "output_type": "stream",
     "text": [
      "Epoch 1 Loss 2.1582698822021484\n",
      "Epoch 2 Loss 2.0011541843414307\n",
      "Epoch 3 Loss 1.8661247491836548\n",
      "Epoch 4 Loss 1.7121591567993164\n",
      "Epoch 5 Loss 1.5538407564163208\n",
      "Epoch 6 Loss 1.4120980501174927\n",
      "Epoch 7 Loss 1.2837294340133667\n",
      "Epoch 8 Loss 1.1756290197372437\n",
      "Epoch 9 Loss 1.070193886756897\n",
      "Epoch 10 Loss 0.9620561599731445\n",
      "Epoch 11 Loss 0.8778546452522278\n",
      "Epoch 12 Loss 0.7992134094238281\n",
      "Epoch 13 Loss 0.7237516045570374\n",
      "Epoch 14 Loss 0.6497401595115662\n",
      "Epoch 15 Loss 0.5727958083152771\n",
      "Epoch 16 Loss 0.5020315647125244\n",
      "Epoch 17 Loss 0.43824103474617004\n",
      "Epoch 18 Loss 0.38061806559562683\n",
      "Epoch 19 Loss 0.3326881229877472\n",
      "Epoch 20 Loss 0.295844167470932\n",
      "Epoch 21 Loss 0.2679532766342163\n",
      "Epoch 22 Loss 0.2460380643606186\n",
      "Epoch 23 Loss 0.2276441901922226\n",
      "Epoch 24 Loss 0.21077193319797516\n",
      "Epoch 25 Loss 0.19290786981582642\n",
      "Epoch 26 Loss 0.16913199424743652\n",
      "Epoch 27 Loss 0.14251136779785156\n",
      "Epoch 28 Loss 0.13340041041374207\n",
      "Epoch 29 Loss 0.12046482414007187\n",
      "Epoch 30 Loss 0.10844077914953232\n",
      "Epoch 31 Loss 0.10414757579565048\n",
      "Epoch 32 Loss 0.10200696438550949\n",
      "Epoch 33 Loss 0.09624480456113815\n",
      "Epoch 34 Loss 0.08823925256729126\n",
      "Epoch 35 Loss 0.08584731817245483\n",
      "Epoch 36 Loss 0.08382836729288101\n",
      "Epoch 37 Loss 0.07629471272230148\n",
      "Epoch 38 Loss 0.0741511657834053\n",
      "Epoch 39 Loss 0.0730770006775856\n",
      "Epoch 40 Loss 0.07023873180150986\n",
      "Epoch 41 Loss 0.06717624515295029\n",
      "Epoch 42 Loss 0.06601135432720184\n",
      "Epoch 43 Loss 0.0650646761059761\n",
      "Epoch 44 Loss 0.061764445155858994\n",
      "Epoch 45 Loss 0.058733925223350525\n",
      "Epoch 46 Loss 0.05716334283351898\n",
      "Epoch 47 Loss 0.05417981743812561\n",
      "Epoch 48 Loss 0.0506155751645565\n",
      "Epoch 49 Loss 0.04751329496502876\n",
      "Epoch 50 Loss 0.044678229838609695\n"
     ]
    }
   ],
   "source": [
    "torch.manual_seed(11785)\n",
    "model = Model(len(letters), len(phonemes), 4, 4)\n",
    "criterion = nn.CTCLoss()\n",
    "optimizer = torch.optim.Adam(model.parameters(), lr=0.1)\n",
    "\n",
    "for epoch in range(50):\n",
    "    optimizer.zero_grad()\n",
    "    out, out_lens = model(X, X_lens)\n",
    "    loss = criterion(out, Y, out_lens, Y_lens)\n",
    "    print('Epoch', epoch + 1, 'Loss', loss.item())\n",
    "    loss.backward()\n",
    "    optimizer.step()"
   ]
  },
  {
   "cell_type": "markdown",
   "metadata": {
    "colab_type": "text",
    "id": "9-bnkwPD8kYj"
   },
   "source": [
    "# Decoding with `ctcdecode`\n",
    "\n",
    "During inference, we want to generate the most probable sequence from predicted probabilities. PyTorch doesn't have built-in support for that, so we need another library called `ctcdecode`.\n",
    "\n",
    "## Installation\n",
    "\n",
    "If you just follow the steps in https://github.com/parlance/ctcdecode, you may encounter `ModuleNotFoundError: No module named 'wget'`. Simply `pip install wget` solves the problem.\n",
    "\n",
    "Installing `ctcdecode` with the following steps should be successful. (Change `pip3 install` to either `pip3 install --user` or `sudo -H pip3 install` if you are using the system Python instead of Conda) It takes a few minutes to compile, so be patient."
   ]
  },
  {
   "cell_type": "code",
   "execution_count": 5,
   "metadata": {
    "colab": {
     "base_uri": "https://localhost:8080/",
     "height": 716
    },
    "colab_type": "code",
    "executionInfo": {
     "elapsed": 175627,
     "status": "ok",
     "timestamp": 1571610786077,
     "user": {
      "displayName": "Parth Shah",
      "photoUrl": "",
      "userId": "06799060630439446761"
     },
     "user_tz": 240
    },
    "id": "ywIzDlKp7ppv",
    "outputId": "436c5038-a021-40b5-c50a-d8d4d669262d"
   },
   "outputs": [
    {
     "name": "stdout",
     "output_type": "stream",
     "text": [
      "Cloning into 'ctcdecode'...\n",
      "remote: Enumerating objects: 1006, done.\u001b[K\n",
      "remote: Total 1006 (delta 0), reused 0 (delta 0), pack-reused 1006\u001b[K\n",
      "Receiving objects: 100% (1006/1006), 728.22 KiB | 1.36 MiB/s, done.\n",
      "Resolving deltas: 100% (500/500), done.\n",
      "Submodule 'third_party/ThreadPool' (https://github.com/progschj/ThreadPool.git) registered for path 'third_party/ThreadPool'\n",
      "Submodule 'third_party/kenlm' (https://github.com/kpu/kenlm.git) registered for path 'third_party/kenlm'\n",
      "Cloning into '/home/amalad/CMU_Acads/TA_11785/ctcdecode/third_party/ThreadPool'...\n",
      "remote: Enumerating objects: 82, done.        \n",
      "remote: Total 82 (delta 0), reused 0 (delta 0), pack-reused 82        \n",
      "Cloning into '/home/amalad/CMU_Acads/TA_11785/ctcdecode/third_party/kenlm'...\n",
      "remote: Enumerating objects: 56, done.        \n",
      "remote: Counting objects: 100% (56/56), done.        \n",
      "remote: Compressing objects: 100% (47/47), done.        \n",
      "remote: Total 13380 (delta 24), reused 26 (delta 9), pack-reused 13324        \n",
      "Receiving objects: 100% (13380/13380), 5.36 MiB | 3.88 MiB/s, done.\n",
      "Resolving deltas: 100% (7669/7669), done.\n",
      "Submodule path 'third_party/ThreadPool': checked out '9a42ec1329f259a5f4881a291db1dcb8f2ad9040'\n",
      "Submodule path 'third_party/kenlm': checked out '35835f1ac4884126458ac89f9bf6dd9ccad561e0'\n",
      "Requirement already satisfied: wget in /home/amalad/anaconda3/envs/recitation8/lib/python3.7/site-packages (3.2)\n",
      "/home/amalad/CMU_Acads/TA_11785/ctcdecode\n",
      "Processing /home/amalad/CMU_Acads/TA_11785/ctcdecode\n",
      "Building wheels for collected packages: ctcdecode\n",
      "  Building wheel for ctcdecode (setup.py) ... \u001b[?25ldone\n",
      "\u001b[?25h  Created wheel for ctcdecode: filename=ctcdecode-0.4-cp37-cp37m-linux_x86_64.whl size=12114478 sha256=c173cad931ffd0980d278ae462f7ab3a0c09467c16937dfdf1b5d6632199c3e7\n",
      "  Stored in directory: /tmp/pip-ephem-wheel-cache-xa0w461u/wheels/c1/c9/3c/06100d5872d12567d6a07d4e47907ac8cedc25c69aaac39e66\n",
      "Successfully built ctcdecode\n",
      "Installing collected packages: ctcdecode\n",
      "Successfully installed ctcdecode-0.4\n",
      "/home/amalad/CMU_Acads/TA_11785\n"
     ]
    }
   ],
   "source": [
    "!git clone --recursive https://github.com/parlance/ctcdecode.git\n",
    "!pip install wget\n",
    "%cd ctcdecode\n",
    "!pip install .\n",
    "%cd .."
   ]
  },
  {
   "cell_type": "markdown",
   "metadata": {
    "colab_type": "text",
    "id": "S8V_A9NF9A0H"
   },
   "source": [
    "Test whether ctcdecode is working.\n",
    "\n",
    "Common errors:\n",
    "* `ImportError: No module named 'ctcdecode._ext'`: Your current working directory is in `ctcdecode`. `cd` into other directories will solve this.\n",
    "* `undefined symbol: _ZN6caffe26detail37_typeMetaDataInstance_preallocated_32E`: **`torch` MUST be imported before importing `ctcdecode`**, otherwise you will see this.\n"
   ]
  },
  {
   "cell_type": "code",
   "execution_count": 6,
   "metadata": {
    "colab": {
     "base_uri": "https://localhost:8080/",
     "height": 53
    },
    "colab_type": "code",
    "executionInfo": {
     "elapsed": 486,
     "status": "ok",
     "timestamp": 1571618510472,
     "user": {
      "displayName": "Parth Shah",
      "photoUrl": "",
      "userId": "06799060630439446761"
     },
     "user_tz": 240
    },
    "id": "TYpExO0A_cJD",
    "outputId": "59e73cb7-a4fe-492b-ea39-44f10e7e8efe"
   },
   "outputs": [
    {
     "name": "stdout",
     "output_type": "stream",
     "text": [
      "torch.Size([1, 2, 2])\n",
      "tensor([1], dtype=torch.int32)\n"
     ]
    }
   ],
   "source": [
    "from ctcdecode import CTCBeamDecoder\n",
    "\n",
    "decoder = CTCBeamDecoder([' ', 'A'], beam_width=4)\n",
    "probs = torch.Tensor([[0.2, 0.8], [0.8, 0.2]]).unsqueeze(0)\n",
    "print(probs.size())\n",
    "out, _, _, out_lens = decoder.decode(probs, torch.LongTensor([2]))\n",
    "print(out[0, 0, :out_lens[0, 0]])"
   ]
  },
  {
   "cell_type": "markdown",
   "metadata": {
    "colab_type": "text",
    "id": "pODYer9PEb8P"
   },
   "source": [
    "## Usage\n",
    "\n",
    "There is no documentation for `ctcdecode`. The only way to understand it is to read the source code. Below, we explain some arguments that are more useful for HW3P2:\n",
    "\n",
    "`CTCBeamDecoder`:\n",
    "* `phonemes`: **It doesn't need to be actual phonemes.** The only requirement is being a list of characters whose length is the number of classes (number of phonemes plus 1). \n",
    "* `beam_width`: Larger beam width produces better output, but also costs more time and memory.\n",
    "* `num_processes`: Number of processes for parallel decoding. Setting it to `os.cpu_count()` is recommended as it utilizes all CPU cores.\n",
    "* `log_probs_input`: Should always be True, since your model output is log probabilities.\n",
    "\n",
    "`CTCBeamDecoder.decode` arguments:\n",
    "* `probs`: Prediction from your model as log probabilities (if `log_probs_input=True`).\n",
    "  * Shape: (N, T, C). where N is batch size, T is the largest length in the batch, and C is number of classes. **WARNING!** This dimension order is unconventional in PyTorch. You likely need to do `out.transpose(0, 1)` on your output.\n",
    "* `len`: Lengths of sequences in `probs`.\n",
    "  * Shape: (N,)\n",
    "\n",
    "\n",
    "`CTCBeamDecoder.decode` return value (tuple of 4):\n",
    "* First item `output`: Decoded top sequences.\n",
    "  * Shape: (N, B, T), where B is the beam width. Normally we only need the best sequences, which are indexed 0 in the second (beam width) dimension.\n",
    "* Second and third can be ignored.\n",
    "* Last item `out_seq_len`: Length of sequences in `output`. \n",
    "  * Shape: (N, B). Lengths of best sequences are indexed 0 in the second (beam width) dimension."
   ]
  },
  {
   "cell_type": "code",
   "execution_count": 7,
   "metadata": {
    "colab": {},
    "colab_type": "code",
    "id": "xcdt3FgdA4OH"
   },
   "outputs": [],
   "source": [
    "import numpy as np\n",
    "import matplotlib.pyplot as plt\n",
    "\n",
    "# Visualize the probability prediction at each step\n",
    "def visualize(word, log_probs):\n",
    "    fig, ax = plt.subplots()\n",
    "    ax.imshow(log_probs.exp().numpy())\n",
    "    ax.set_xticks(np.arange(log_probs.size(1)))\n",
    "    ax.set_yticks(np.arange(log_probs.size(0)))\n",
    "    ax.set_xticklabels(phonemes)\n",
    "    ax.set_yticklabels(list(word))\n",
    "    plt.show()"
   ]
  },
  {
   "cell_type": "code",
   "execution_count": 8,
   "metadata": {
    "colab": {
     "base_uri": "https://localhost:8080/",
     "height": 869
    },
    "colab_type": "code",
    "executionInfo": {
     "elapsed": 1117,
     "status": "ok",
     "timestamp": 1571405174305,
     "user": {
      "displayName": "Liwei Cai",
      "photoUrl": "",
      "userId": "16466533746106471957"
     },
     "user_tz": 240
    },
    "id": "W9wgxDz-EYhn",
    "outputId": "38f08706-d9d3-4a96-ff57-cc49b675e3a9"
   },
   "outputs": [
    {
     "data": {
      "image/png": "[encoded data removed]",
      "text/plain": [
       "<Figure size 432x288 with 1 Axes>"
      ]
     },
     "metadata": {
      "needs_background": "light"
     },
     "output_type": "display_data"
    },
    {
     "name": "stdout",
     "output_type": "stream",
     "text": [
      "TEE -> T IY\n"
     ]
    },
    {
     "data": {
      "image/png": "[encoded data removed]",
      "text/plain": [
       "<Figure size 432x288 with 1 Axes>"
      ]
     },
     "metadata": {
      "needs_background": "light"
     },
     "output_type": "display_data"
    },
    {
     "name": "stdout",
     "output_type": "stream",
     "text": [
      "TINT -> S IH N T\n"
     ]
    },
    {
     "data": {
      "image/png": "[encoded data removed]",
      "text/plain": [
       "<Figure size 432x288 with 1 Axes>"
      ]
     },
     "metadata": {
      "needs_background": "light"
     },
     "output_type": "display_data"
    },
    {
     "name": "stdout",
     "output_type": "stream",
     "text": [
      "SINE -> S AY N\n"
     ]
    },
    {
     "data": {
      "image/png": "[encoded data removed]",
      "text/plain": [
       "<Figure size 432x288 with 1 Axes>"
      ]
     },
     "metadata": {
      "needs_background": "light"
     },
     "output_type": "display_data"
    },
    {
     "name": "stdout",
     "output_type": "stream",
     "text": [
      "SENT -> S EH N T\n"
     ]
    }
   ],
   "source": [
    "test_data = ['TEE', 'TINT', 'SINE', 'SENT']\n",
    "\n",
    "decoder = CTCBeamDecoder(['$'] * len(phonemes), beam_width=4, log_probs_input=True)\n",
    "\n",
    "test_X = [torch.LongTensor([letters.find(c) for c in word]) for word in test_data]\n",
    "test_X_lens = torch.LongTensor([len(seq) for seq in test_X])\n",
    "test_X = pad_sequence(test_X)\n",
    "\n",
    "with torch.no_grad():\n",
    "    model.eval()\n",
    "    out, out_lens = model(test_X, test_X_lens)\n",
    "\n",
    "test_Y, _, _, test_Y_lens = decoder.decode(out.transpose(0, 1), out_lens)\n",
    "for i in range(len(test_data)):\n",
    "    visualize(test_data[i], out[:len(test_data[i]), i, :])\n",
    "    # For the i-th sample in the batch, get the best output\n",
    "    best_seq = test_Y[i, 0, :test_Y_lens[i, 0]]\n",
    "    best_pron = ' '.join(phonemes[i] for i in best_seq)\n",
    "    print(test_data[i], '->', best_pron)"
   ]
  },
  {
   "cell_type": "markdown",
   "metadata": {
    "colab_type": "text",
    "id": "GEWfU3tIEP7K"
   },
   "source": [
    "## Caveats\n",
    "\n",
    "* Your program will **crash sliently** if you provide invalid arguments to `CTCBeamDecoder.decode`, like having wrong shapes. It is very difficult to debug such error. During development, we recommend you to **print out all arguments before decoding**, so that you can figure out what goes wrong if it crashes."
   ]
  },
  {
   "cell_type": "code",
   "execution_count": null,
   "metadata": {
    "colab": {},
    "colab_type": "code",
    "id": "p2oLo8ZfEg-9"
   },
   "outputs": [],
   "source": [
    "# Don't run this! It will crash your notebook.\n",
    "decoder = CTCBeamDecoder([' ', 'A'], beam_width=4)\n",
    "probs = torch.Tensor([[0.1, 0.1, 0.8], [0.8, 0.1, 0.1]]).unsqueeze(0)\n",
    "out, _, _, out_lens = decoder.decode(probs, torch.LongTensor([2]))"
   ]
  }
 ],
 "metadata": {
  "colab": {
   "collapsed_sections": [],
   "name": "CTC.ipynb",
   "provenance": [],
   "toc_visible": true
  },
  "kernelspec": {
   "display_name": "Python 3",
   "language": "python",
   "name": "python3"
  },
  "language_info": {
   "codemirror_mode": {
    "name": "ipython",
    "version": 3
   },
   "file_extension": ".py",
   "mimetype": "text/x-python",
   "name": "python",
   "nbconvert_exporter": "python",
   "pygments_lexer": "ipython3",
   "version": "3.7.6"
  }
 },
 "nbformat": 4,
 "nbformat_minor": 1
}
