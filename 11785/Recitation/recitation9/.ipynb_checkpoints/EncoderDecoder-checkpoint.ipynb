{
 "cells": [
  {
   "cell_type": "markdown",
   "metadata": {},
   "source": [
    "# Encoder-decoder for sequence-to-sequence tasks\n",
    "\n",
    "In this tutorial, we will walk through a simple example of encoder-decoder with attention mechanism.\n",
    "\n",
    "This tutorial focuses on implementation. For basic concepts, refer to slides for lectures and recitations.\n"
   ]
  },
  {
   "cell_type": "markdown",
   "metadata": {},
   "source": [
    "## Toy task: English spelling to pronunciation\n",
    "\n",
    "We consider the same toy task as the last recitation, which is predicting the pronunciation (as sequence of phonemes) of an English word given its spelling.\n",
    "\n",
    "The model architecture and hyperparameters are for demonstration purpose only. Do not copy them to your actual homework."
   ]
  },
  {
   "cell_type": "code",
   "execution_count": 1,
   "metadata": {},
   "outputs": [],
   "source": [
    "# Words with only E, I, N, S, T.\n",
    "# Pronunciation is from http://www.speech.cs.cmu.edu/cgi-bin/pronounce\n",
    "data = [\n",
    "    ('SEE', 'S IY'),\n",
    "    ('SET', 'S EH T'),\n",
    "    ('SIT', 'S IH T'),\n",
    "    ('SITE', 'S AY T'),\n",
    "    ('SIN', 'S IH N'),\n",
    "    ('TEEN', 'T IY N'),\n",
    "    ('TIN', 'T IH N'),\n",
    "    ('TIE', 'T AY'),\n",
    "    ('TEST', 'T EH S T'),\n",
    "    ('NET', 'N EH T'),\n",
    "    ('NEET', 'N IY T'),\n",
    "    ('NINE', 'N AY N')\n",
    "]\n",
    "letters = 'EINST'\n",
    "# '<s>' for the beginning of sequence, '</s>' for the end of sequence, followed by actual phonemes\n",
    "phonemes = ['<s>', '</s>', 'S', 'T', 'N', 'IY', 'IH', 'EH', 'AY']"
   ]
  },
  {
   "cell_type": "markdown",
   "metadata": {},
   "source": [
    "Every target sequence is prepended with `<s>` and appended with `</s>`. This is necessary for the decoder to predict the first token and the end of the sequence.\n",
    "\n",
    "## Preprocessing"
   ]
  },
  {
   "cell_type": "code",
   "execution_count": 2,
   "metadata": {},
   "outputs": [
    {
     "name": "stdout",
     "output_type": "stream",
     "text": [
      "X_lens: tensor([3, 3, 3, 4, 3, 4, 3, 3, 4, 3, 4, 4])\n",
      "Y_lens: tensor([4, 5, 5, 5, 5, 5, 5, 4, 6, 5, 5, 5])\n",
      "X torch.Size([4, 12]) tensor([[3, 3, 3, 3, 3, 4, 4, 4, 4, 2, 2, 2],\n",
      "        [0, 0, 1, 1, 1, 0, 1, 1, 0, 0, 0, 1],\n",
      "        [0, 4, 4, 4, 2, 0, 2, 0, 3, 4, 0, 2],\n",
      "        [0, 0, 0, 0, 0, 2, 0, 0, 4, 0, 4, 0]])\n",
      "Y torch.Size([6, 12]) tensor([[0, 0, 0, 0, 0, 0, 0, 0, 0, 0, 0, 0],\n",
      "        [2, 2, 2, 2, 2, 3, 3, 3, 3, 4, 4, 4],\n",
      "        [5, 7, 6, 8, 6, 5, 6, 8, 7, 7, 5, 8],\n",
      "        [1, 3, 3, 3, 4, 4, 4, 1, 2, 3, 3, 4],\n",
      "        [0, 1, 1, 1, 1, 1, 1, 0, 3, 1, 1, 1],\n",
      "        [0, 0, 0, 0, 0, 0, 0, 0, 1, 0, 0, 0]])\n"
     ]
    }
   ],
   "source": [
    "import torch\n",
    "from torch import nn\n",
    "from torch.nn.utils.rnn import *\n",
    "\n",
    "# convert the data to numeric labels using the input and output vocabulary\n",
    "X = [torch.LongTensor([letters.find(c) for c in word]) for word, _ in data]\n",
    "Y = [torch.LongTensor([phonemes.index(p) for p in ('<s> ' + pron + ' </s>').split()]) for _, pron in data]\n",
    "X_lens = torch.LongTensor([len(seq) for seq in X])\n",
    "Y_lens = torch.LongTensor([len(seq) for seq in Y])\n",
    "print(\"X_lens:\", X_lens)\n",
    "print(\"Y_lens:\", Y_lens)\n",
    "\n",
    "# here notice the batch_first is set as default: false\n",
    "X = pad_sequence(X)\n",
    "Y = pad_sequence(Y)\n",
    "print(\"X\", X.size(), X)\n",
    "print(\"Y\", Y.size(), Y)"
   ]
  },
  {
   "cell_type": "markdown",
   "metadata": {},
   "source": [
    "## Encoder\n",
    "\n",
    "The encoder is just a one-layer bi-directional LSTM.\n",
    "The encoder returns not only the encoded sequence, but also the final hidden state of the LSTM, which will be the initial hidden state of the decoder.\n",
    "\n",
    "notation: `batch_size` is the batch size, `max_len` is the maximum input sequence length, `hidden_size` is the hidden size."
   ]
  },
  {
   "cell_type": "code",
   "execution_count": 3,
   "metadata": {},
   "outputs": [],
   "source": [
    "class Encoder(nn.Module):\n",
    "    def __init__(self, vocab_size, embed_size, hidden_size):\n",
    "        super(Encoder, self).__init__()\n",
    "        \n",
    "        self.embed = nn.Embedding(vocab_size, embed_size)\n",
    "        \n",
    "        # the default \"batch_first\" for LSTM is False \n",
    "        # because the bidirectional=True, the final output dimension will be hidden_size\n",
    "        self.lstm = nn.LSTM(embed_size, hidden_size // 2, bidirectional = True)\n",
    "    \n",
    "    def forward(self, X, lengths):\n",
    "        \"\"\"\n",
    "        :param X: (max_len, batch_size), input sequences\n",
    "        :param lengths: (batch_size, ), lengths of input sequences\n",
    "        :returns: encoded input sequences (batch_size, max_len, hidden_size)\n",
    "                  LSTM final states (num_layers * num_directions, batch_size, hidden_size // 2)\n",
    "        \"\"\"\n",
    "        \n",
    "        X = self.embed(X)\n",
    "        \n",
    "        packed_X = pack_padded_sequence(X, lengths, enforce_sorted=False)\n",
    "        packed_out, final_state = self.lstm(packed_X)\n",
    "        encoded_input, encoded_input_lengths = pad_packed_sequence(packed_out)\n",
    "              \n",
    "        # final_state is a tuple, containing hidden_state and cell_state \n",
    "        return encoded_input, final_state"
   ]
  },
  {
   "cell_type": "markdown",
   "metadata": {},
   "source": [
    "## Attention\n",
    "\n",
    "This the simplest \"dot product\" attention, meaning that every attention logit is the dot product of a target (`query`) vector and a source (`context`) vector. Such an attention model has no parameter, but you may use more advanced attention mechanism with learnable parameters in real world.\n",
    "\n",
    "Since there are a lot of uncommon operators, every line of code is annotated with input and output tensor sizes. \n",
    "\n",
    "The attention vectors are not used by other computations, but are returned for visualization. You will often want to visualize the attention matrix when debugging sequence-to-sequence models."
   ]
  },
  {
   "cell_type": "code",
   "execution_count": 4,
   "metadata": {},
   "outputs": [],
   "source": [
    "class Attention(nn.Module):\n",
    "    def __init__(self):\n",
    "        super(Attention, self).__init__()\n",
    "    \n",
    "    def forward(self, query, context, lengths):\n",
    "        \"\"\"\n",
    "        :param query: (batch_size, hidden_size), decoder state of a single timestep\n",
    "        :param context: (batch_size, max_len, hidden_size), encoded input sequences\n",
    "        :param lengths: (batch_size,), lengths of source sequences\n",
    "        :returns: (batch_size, hidden_size) attended source context, and (batch_size, max_len) attention vectors\n",
    "        \"\"\"\n",
    "        \n",
    "        # Compute (batch_size, max_len) attention logits. \"bmm\" stands for \"batch matrix multiplication\".\n",
    "        # Input shape of bmm:  (batch_szie, max_len, hidden_size), (batch_size, hidden_size, 1) \n",
    "        # Output shape of bmm: (batch_size, max_len, 1)\n",
    "        attention = torch.bmm(context, query.unsqueeze(2)).squeeze(2)\n",
    "        \n",
    "        # Create an (batch_size, max_len) boolean mask for all padding positions\n",
    "        # Make use of broadcasting: (1, max_len), (batch_size, 1) -> (batch_size, max_len)\n",
    "        mask = torch.arange(context.size(1)).unsqueeze(0) >= lengths.unsqueeze(1)\n",
    "        \n",
    "        # Set attention logits at padding positions to negative infinity.\n",
    "        attention.masked_fill_(mask, -1e9)\n",
    "        \n",
    "        # Take softmax over the \"source length\" dimension.\n",
    "        attention = nn.functional.softmax(attention, dim=1)\n",
    "        \n",
    "        # Compute attention-weighted sum of context vectors\n",
    "        # Input shape of bmm: (batch_size, 1, max_len), (batch_size, max_len, hidden_size) \n",
    "        # Output shape of bmm: (batch_size, 1, hidden_size)\n",
    "        out = torch.bmm(attention.unsqueeze(1), context).squeeze(1)\n",
    "        \n",
    "        # attention vectors are returned for visualization\n",
    "        return out, attention\n",
    "        "
   ]
  },
  {
   "cell_type": "markdown",
   "metadata": {},
   "source": [
    "## Decoder\n",
    "\n",
    "Each `forward` call of decoder deals with only one timestep.\n",
    "\n",
    "Here, we use the LSTM output as the query of attention and concatenate the attended context with the LSTM output. There are many other (better) ways to use attention context in the decoder."
   ]
  },
  {
   "cell_type": "code",
   "execution_count": 5,
   "metadata": {},
   "outputs": [],
   "source": [
    "class Decoder(nn.Module):\n",
    "    def __init__(self, vocab_size, embed_size, hidden_size):\n",
    "        super(Decoder, self).__init__()\n",
    "        self.embed = nn.Embedding(vocab_size, embed_size)\n",
    "        self.lstmcell = nn.LSTMCell(hidden_size, hidden_size)\n",
    "        self.attention = Attention()\n",
    "        self.output = nn.Linear(hidden_size * 2, vocab_size, bias=False)\n",
    "\n",
    "    def forward(self, x, context, context_lengths, state=None):\n",
    "        \"\"\"\n",
    "        :param x: (batch_size,), target tokens in the current timestep\n",
    "        :param context: (batch_size, max_len, hidden_size), encoded input sequences\n",
    "        :param context_lengths: (batch_size,) lengths of input sequences\n",
    "        :param state: LSTM hidden states from the last timestep (or from the encoder for the first step)\n",
    "        :returns: prediction of target tokens in the next timestep, LSTM hidden states of the current timestep, and attention vectors\n",
    "        \"\"\"\n",
    "        x = self.embed(x)\n",
    "        new_state = self.lstmcell(x, state)\n",
    "        x = new_state[0]\n",
    "        x_att, attention = self.attention(x, context, context_lengths)\n",
    "        x = torch.cat([x, x_att], dim=1)\n",
    "        return self.output(x), new_state, attention"
   ]
  },
  {
   "cell_type": "markdown",
   "metadata": {},
   "source": [
    "## Training\n",
    "\n",
    "In training, we feed ground truth tokens into the decoder one step at a time, and let it predict the next token.\n",
    "\n",
    "The loss function is just cross entropy loss, but only \"real\" tokens are counted, and padding tokens must be ignored.\n",
    "\n",
    "The loss of each batch is averaged over all \"real\" tokens."
   ]
  },
  {
   "cell_type": "code",
   "execution_count": 6,
   "metadata": {},
   "outputs": [
    {
     "name": "stdout",
     "output_type": "stream",
     "text": [
      "Final train loss: 0.038738884031772614\n"
     ]
    }
   ],
   "source": [
    "torch.manual_seed(11785)\n",
    "encoder = Encoder(len(letters), embed_size=4, hidden_size=4)\n",
    "decoder = Decoder(len(phonemes), embed_size=4, hidden_size=4)\n",
    "# Sum over the batch at every timestep. We manually divide the total loss by number of tokens.(default is 'mean')\n",
    "criterion = nn.CrossEntropyLoss(reduction='sum')\n",
    "optimizer = torch.optim.Adam(list(encoder.parameters()) + list(decoder.parameters()), lr=0.1)\n",
    "\n",
    "loss_history = []\n",
    "\n",
    "for epoch in range(100):\n",
    "    loss = 0\n",
    "    # List of attention vectors\n",
    "    all_attentions = []\n",
    "    \n",
    "    context, state = encoder(X, X_lens)\n",
    "    # Context: (max_len, batch_size, hidden_size) -> (batch_size, max_len, hidden_size)\n",
    "    context = context.transpose(0, 1)\n",
    "    # Hidden states: (2, batch_size, hidden_size) -> (batch_size, 2*hidden_size)\n",
    "    state = tuple(st.transpose(0, 1).reshape(X.size(1), -1) for st in state)\n",
    "    \n",
    "    # Number of \"real\" tokens, not include </s> because we mask </s> as false in the following loop\n",
    "    n_tokens = Y_lens.sum() - Y_lens.size(0)\n",
    "    \n",
    "    # notice the loop times (current timestep predict the next timestep)\n",
    "    for i in range(Y.size(0) - 1):\n",
    "        out, state, attention = decoder(Y[i], context, X_lens, state)\n",
    "        all_attentions.append(attention.detach())\n",
    "        # Mask of sequenuces that haven't ended (i.e. current tokens are \"real\")\n",
    "        active = i + 1 < Y_lens\n",
    "        # Compute loss only on \"real\" outputs\n",
    "        loss += criterion(out[active], Y[i + 1, active])\n",
    "    \n",
    "    # Divide by number of \"real\" tokens to get average loss\n",
    "    loss /= n_tokens\n",
    "    loss_history.append(loss.item())\n",
    "    # Assemble attention vectors at each timestep into attention matrix.\n",
    "    # The shape is (batch_size, T_out, T_in)\n",
    "    all_attentions = torch.stack(all_attentions, dim=1)\n",
    "\n",
    "    optimizer.zero_grad()\n",
    "    loss.backward()\n",
    "    optimizer.step()\n",
    "\n",
    "print('Final train loss:', loss_history[-1])"
   ]
  },
  {
   "cell_type": "markdown",
   "metadata": {},
   "source": [
    "## Visualize loss and attention\n",
    "\n",
    "The attention for this toy example doesn't work very well, but you should observe a clear diagonal on the attention matrix in the real life."
   ]
  },
  {
   "cell_type": "code",
   "execution_count": 7,
   "metadata": {},
   "outputs": [
    {
     "data": {
      "image/png": "[encoded data removed]",
      "text/plain": [
       "<Figure size 432x288 with 1 Axes>"
      ]
     },
     "metadata": {
      "needs_background": "light"
     },
     "output_type": "display_data"
    },
    {
     "data": {
      "image/png": "[encoded data removed]",
      "text/plain": [
       "<Figure size 108x108 with 1 Axes>"
      ]
     },
     "metadata": {
      "needs_background": "light"
     },
     "output_type": "display_data"
    },
    {
     "data": {
      "image/png": "[encoded data removed]",
      "text/plain": [
       "<Figure size 108x144 with 1 Axes>"
      ]
     },
     "metadata": {
      "needs_background": "light"
     },
     "output_type": "display_data"
    },
    {
     "data": {
      "image/png": "[encoded data removed]",
      "text/plain": [
       "<Figure size 108x144 with 1 Axes>"
      ]
     },
     "metadata": {
      "needs_background": "light"
     },
     "output_type": "display_data"
    },
    {
     "data": {
      "image/png": "[encoded data removed]",
      "text/plain": [
       "<Figure size 144x144 with 1 Axes>"
      ]
     },
     "metadata": {
      "needs_background": "light"
     },
     "output_type": "display_data"
    },
    {
     "data": {
      "image/png": "[encoded data removed]",
      "text/plain": [
       "<Figure size 108x144 with 1 Axes>"
      ]
     },
     "metadata": {
      "needs_background": "light"
     },
     "output_type": "display_data"
    },
    {
     "data": {
      "image/png": "[encoded data removed]",
      "text/plain": [
       "<Figure size 144x144 with 1 Axes>"
      ]
     },
     "metadata": {
      "needs_background": "light"
     },
     "output_type": "display_data"
    },
    {
     "data": {
      "image/png": "[encoded data removed]",
      "text/plain": [
       "<Figure size 108x144 with 1 Axes>"
      ]
     },
     "metadata": {
      "needs_background": "light"
     },
     "output_type": "display_data"
    },
    {
     "data": {
      "image/png": "[encoded data removed]",
      "text/plain": [
       "<Figure size 108x108 with 1 Axes>"
      ]
     },
     "metadata": {
      "needs_background": "light"
     },
     "output_type": "display_data"
    },
    {
     "data": {
      "image/png": "[encoded data removed]",
      "text/plain": [
       "<Figure size 144x180 with 1 Axes>"
      ]
     },
     "metadata": {
      "needs_background": "light"
     },
     "output_type": "display_data"
    },
    {
     "data": {
      "image/png": "[encoded data removed]",
      "text/plain": [
       "<Figure size 108x144 with 1 Axes>"
      ]
     },
     "metadata": {
      "needs_background": "light"
     },
     "output_type": "display_data"
    },
    {
     "data": {
      "image/png": "[encoded data removed]",
      "text/plain": [
       "<Figure size 144x144 with 1 Axes>"
      ]
     },
     "metadata": {
      "needs_background": "light"
     },
     "output_type": "display_data"
    },
    {
     "data": {
      "image/png": "[encoded data removed]",
      "text/plain": [
       "<Figure size 144x144 with 1 Axes>"
      ]
     },
     "metadata": {
      "needs_background": "light"
     },
     "output_type": "display_data"
    }
   ],
   "source": [
    "import numpy as np\n",
    "import matplotlib.pyplot as plt\n",
    "\n",
    "plt.plot(loss_history)\n",
    "plt.show()\n",
    "\n",
    "for i in range(X.size(1)):\n",
    "    fig, ax = plt.subplots(figsize=(X_lens[i] * 0.5, (Y_lens[i] -  1) * 0.5))\n",
    "    ax.imshow(all_attentions[i, :Y_lens[i] - 1, :X_lens[i]].numpy())\n",
    "    ax.set_xticks(np.arange(X_lens[i]))\n",
    "    ax.set_yticks(np.arange(Y_lens[i] - 1))\n",
    "    ax.set_xticklabels(list(data[i][0]))\n",
    "    ax.set_yticklabels(data[i][1].split() + ['</s>'])\n",
    "    ax.set_ylim(Y_lens[i]-1.5, -0.5)\n",
    "    plt.show()"
   ]
  },
  {
   "cell_type": "markdown",
   "metadata": {},
   "source": [
    "## Decoding\n",
    "\n",
    "Here we demonstrate \"greedy decoding\", that is, choosing the token with the highest probability at every step. Beam search is the standard decoding algorithm nowadays, but is much harder to implement. "
   ]
  },
  {
   "cell_type": "code",
   "execution_count": 8,
   "metadata": {},
   "outputs": [],
   "source": [
    "test_data = ['TEE', 'TINT', 'SINE', 'SENT']\n",
    "\n",
    "test_X = [torch.LongTensor([letters.find(c) for c in word]) for word in test_data]\n",
    "test_X_lens = torch.LongTensor([len(seq) for seq in test_X])\n",
    "test_X = pad_sequence(test_X)"
   ]
  },
  {
   "cell_type": "markdown",
   "metadata": {},
   "source": [
    "Here we decode one sample at a time. When using GPUs, it is favorable to decode a batch of samples at a time, to reduce GPU communication overhead."
   ]
  },
  {
   "cell_type": "code",
   "execution_count": 9,
   "metadata": {},
   "outputs": [
    {
     "name": "stdout",
     "output_type": "stream",
     "text": [
      "TEE -> S IY\n",
      "TINT -> T IH N\n",
      "SINE -> S AY N\n",
      "SENT -> S EH T\n"
     ]
    }
   ],
   "source": [
    "for i in range(test_X.size(1)):\n",
    "    context, state = encoder(test_X[:, i:i+1], test_X_lens[i:i+1])\n",
    "    context = context.transpose(0, 1)\n",
    "    state = tuple(st.transpose(0, 1).reshape(1, -1) for st in state)\n",
    "\n",
    "    input_token = torch.LongTensor([phonemes.index('<s>')])\n",
    "    seq = ['<s>']\n",
    "    # Must terminate the generation in a finite amount of steps.\n",
    "    while seq[-1] != '</s>' and len(seq) <= 10:\n",
    "        out, state, _ = decoder(input_token, context, test_X_lens[i:i+1], state)\n",
    "        # Get the most probable token, append it to the output sequence, and make it the next input token.\n",
    "        out_token = torch.argmax(out.squeeze())\n",
    "        seq.append(phonemes[out_token])\n",
    "        input_token = torch.LongTensor([out_token])\n",
    "    print(test_data[i], '->', ' '.join(seq[1:-1]))"
   ]
  },
  {
   "cell_type": "code",
   "execution_count": null,
   "metadata": {},
   "outputs": [],
   "source": []
  }
 ],
 "metadata": {
  "kernelspec": {
   "display_name": "Python 3",
   "language": "python",
   "name": "python3"
  },
  "language_info": {
   "codemirror_mode": {
    "name": "ipython",
    "version": 3
   },
   "file_extension": ".py",
   "mimetype": "text/x-python",
   "name": "python",
   "nbconvert_exporter": "python",
   "pygments_lexer": "ipython3",
   "version": "3.7.7"
  }
 },
 "nbformat": 4,
 "nbformat_minor": 2
}
